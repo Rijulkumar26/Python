{
  "nbformat": 4,
  "nbformat_minor": 0,
  "metadata": {
    "colab": {
      "name": "Madiee_internship.ipynb",
      "provenance": []
    },
    "kernelspec": {
      "name": "python3",
      "display_name": "Python 3"
    },
    "language_info": {
      "name": "python"
    }
  },
  "cells": [
    {
      "cell_type": "code",
      "source": [
        "from google.colab import drive\n",
        "drive.mount('/content/drive')"
      ],
      "metadata": {
        "colab": {
          "base_uri": "https://localhost:8080/"
        },
        "id": "74tPxOPbFqRu",
        "outputId": "e66c3167-80a4-4c3b-f82e-963ed0c4996f"
      },
      "execution_count": null,
      "outputs": [
        {
          "output_type": "stream",
          "name": "stdout",
          "text": [
            "Mounted at /content/drive\n"
          ]
        }
      ]
    },
    {
      "cell_type": "code",
      "source": [
        "!ls '/content/drive/My Drive'"
      ],
      "metadata": {
        "colab": {
          "base_uri": "https://localhost:8080/"
        },
        "id": "WQSwkIhaFrvX",
        "outputId": "68d23023-9ca9-4f8e-bcbb-13bbac002c77"
      },
      "execution_count": null,
      "outputs": [
        {
          "output_type": "stream",
          "name": "stdout",
          "text": [
            " bank_note_data.csv\t\t    KNN_Project_Data\n",
            "'Colab Notebooks'\t\t    loan_data.csv\n",
            " College_Data\t\t\t    Pianalytix\n",
            "'CV ANIL KUMAR (1).docx'\t    screen-capture.webm\n",
            "'CV ANIL KUMAR.docx'\t\t    ubuntu\n",
            "'data science josh'\t\t   'voice data.m4a'\n",
            " dataset\t\t\t   'voice data.wav'\n",
            "'Getting started.pdf'\t\t    yelp.csv\n",
            "'hrb-usra-qic - Jan 5, 2022.gjam'\n"
          ]
        }
      ]
    },
    {
      "cell_type": "code",
      "source": [
        "pip install SpeechRecognition pydub"
      ],
      "metadata": {
        "colab": {
          "base_uri": "https://localhost:8080/"
        },
        "id": "GrPgm5NZLYPz",
        "outputId": "f7ee8655-a973-40bc-d243-8f941c46932b"
      },
      "execution_count": null,
      "outputs": [
        {
          "output_type": "stream",
          "name": "stdout",
          "text": [
            "Collecting SpeechRecognition\n",
            "  Downloading SpeechRecognition-3.8.1-py2.py3-none-any.whl (32.8 MB)\n",
            "\u001b[K     |████████████████████████████████| 32.8 MB 1.3 MB/s \n",
            "\u001b[?25hCollecting pydub\n",
            "  Downloading pydub-0.25.1-py2.py3-none-any.whl (32 kB)\n",
            "Installing collected packages: SpeechRecognition, pydub\n",
            "Successfully installed SpeechRecognition-3.8.1 pydub-0.25.1\n"
          ]
        }
      ]
    },
    {
      "cell_type": "code",
      "source": [
        "# importing libraries \n",
        "import speech_recognition as sr \n",
        "import os \n",
        "from pydub import AudioSegment\n",
        "from pydub.silence import split_on_silence\n",
        "\n",
        "r = sr.Recognizer()\n",
        "\n",
        "def large_audio_transcription(path):\n",
        "    \"\"\"\n",
        "    Splitting the large audio file into chunks\n",
        "    and apply speech recognition on each of these chunks\n",
        "    \"\"\"\n",
        "    num_pause = 0\n",
        "\n",
        "    sound = AudioSegment.from_wav(path)\n",
        "\n",
        "    chunks = split_on_silence(sound,\n",
        "        min_silence_len = 500,\n",
        "        silence_thresh = sound.dBFS-8,\n",
        "        keep_silence=500,\n",
        "    )\n",
        "    folder_name = \"audio-chunks\"\n",
        "    if not os.path.isdir(folder_name):\n",
        "        os.mkdir(folder_name)\n",
        "   \n",
        "    whole_text = \"\"\n",
        "    for i, audio_chunk in enumerate(chunks, start=1):\n",
        "        chunk_filename = os.path.join(folder_name, f\"chunk{i}.wav\")\n",
        "        audio_chunk.export(chunk_filename, format=\"wav\")\n",
        "\n",
        "        with sr.AudioFile(chunk_filename) as source:\n",
        "            audio_listened = r.record(source)\n",
        "            try:\n",
        "                text = r.recognize_google(audio_listened)\n",
        "            except sr.UnknownValueError as e:\n",
        "                print(\"Error:\", str(e))\n",
        "            else:\n",
        "                text = f\"{text.capitalize()} \"\n",
        "                print(chunk_filename, \":\", text)\n",
        "                whole_text += text\n",
        "            num_pause +=1\n",
        "    print(\"Number of pauses:\", (num_pause-1))\n",
        "    return whole_text\n",
        "  \n",
        "if __name__ == '__main__':\n",
        "  full_text = str(large_audio_transcription('/content/drive/My Drive/voice data.wav'))\n",
        "  print(\"\\nFull text:\", full_text)"
      ],
      "metadata": {
        "colab": {
          "base_uri": "https://localhost:8080/"
        },
        "id": "3S5z5WUNiIyi",
        "outputId": "06cb7ed0-e15b-4b8f-d330-a34775cddd70"
      },
      "execution_count": 28,
      "outputs": [
        {
          "output_type": "stream",
          "name": "stdout",
          "text": [
            "audio-chunks/chunk1.wav : Eden \n",
            "audio-chunks/chunk2.wav : Would you be then \n",
            "audio-chunks/chunk3.wav : You know locking this meeting \n",
            "audio-chunks/chunk4.wav : That be because once the division of \n",
            "Error: \n",
            "audio-chunks/chunk6.wav : What does it give people if more people join in the game \n",
            "Error: \n",
            "Error: \n",
            "audio-chunks/chunk9.wav : You can \n",
            "audio-chunks/chunk10.wav : I think we have a party people by don't be start of like just \n",
            "audio-chunks/chunk11.wav : Rules of the game in stuff that most people would know about \n",
            "audio-chunks/chunk12.wav : So we bling codename that is it is a fun board game \n",
            "audio-chunks/chunk13.wav : Just enjoy yourself \n",
            "audio-chunks/chunk14.wav : Which is lucky 21 the rules i am watching the game \n",
            "audio-chunks/chunk15.wav : What's that song \n",
            "audio-chunks/chunk16.wav : You wanted a lot to me \n",
            "audio-chunks/chunk17.wav : Lips have people joining he's the one to win then once he started \n",
            "Error: \n",
            "audio-chunks/chunk19.wav : Is it going to snow today \n",
            "Error: \n",
            "Error: \n",
            "audio-chunks/chunk22.wav : Understand the news \n",
            "audio-chunks/chunk23.wav : Come on let's speak out the charge the charge \n",
            "Error: \n",
            "audio-chunks/chunk25.wav : Should be fine now \n",
            "audio-chunks/chunk26.wav : A place called called me and then the game you're all gone \n",
            "audio-chunks/chunk27.wav : Explain aging \n",
            "Error: \n",
            "audio-chunks/chunk29.wav : One set of group \n",
            "audio-chunks/chunk30.wav : Ruth b \n",
            "audio-chunks/chunk31.wav : Direct sight \n",
            "audio-chunks/chunk32.wav : Record explain for how many things \n",
            "audio-chunks/chunk33.wav : Play dj \n",
            "Error: \n",
            "Error: \n",
            "audio-chunks/chunk36.wav : Anybody else before \n",
            "audio-chunks/chunk37.wav : Pakistani kashmir and going round \n",
            "Error: \n",
            "Error: \n",
            "audio-chunks/chunk40.wav : Basically two different blue team and red \n",
            "audio-chunks/chunk41.wav : And most of you will be joining us \n",
            "audio-chunks/chunk42.wav : You can see all purchases \n",
            "audio-chunks/chunk43.wav : Are all the things will be joining us \n",
            "Error: \n",
            "audio-chunks/chunk45.wav : 1 mm \n",
            "audio-chunks/chunk46.wav : One among you will be joining a spy master \n",
            "audio-chunks/chunk47.wav : Correct time \n",
            "audio-chunks/chunk48.wav : Had a blue timberland \n",
            "audio-chunks/chunk49.wav : I'm basically the aim of each team \n",
            "audio-chunks/chunk50.wav : Is the figure out right there \n",
            "audio-chunks/chunk51.wav : Buy agents \n",
            "Error: \n",
            "audio-chunks/chunk53.wav : Example in this case the blue team has 9 spice \n",
            "audio-chunks/chunk54.wav : 18 as 8 \n",
            "audio-chunks/chunk55.wav : And decadent somebody in this 25 words \n",
            "audio-chunks/chunk56.wav : Location \n",
            "audio-chunks/chunk57.wav : Is protected by secret \n",
            "audio-chunks/chunk58.wav : And one \n",
            "audio-chunks/chunk59.wav : Spider-man \n",
            "audio-chunks/chunk60.wav : No specific location \n",
            "audio-chunks/chunk61.wav : Example i'll make some money for my team \n",
            "Error: \n",
            "Number of pauses: 61\n",
            "\n",
            "Full text: Eden Would you be then You know locking this meeting That be because once the division of What does it give people if more people join in the game You can I think we have a party people by don't be start of like just Rules of the game in stuff that most people would know about So we bling codename that is it is a fun board game Just enjoy yourself Which is lucky 21 the rules i am watching the game What's that song You wanted a lot to me Lips have people joining he's the one to win then once he started Is it going to snow today Understand the news Come on let's speak out the charge the charge Should be fine now A place called called me and then the game you're all gone Explain aging One set of group Ruth b Direct sight Record explain for how many things Play dj Anybody else before Pakistani kashmir and going round Basically two different blue team and red And most of you will be joining us You can see all purchases Are all the things will be joining us 1 mm One among you will be joining a spy master Correct time Had a blue timberland I'm basically the aim of each team Is the figure out right there Buy agents Example in this case the blue team has 9 spice 18 as 8 And decadent somebody in this 25 words Location Is protected by secret And one Spider-man No specific location Example i'll make some money for my team \n"
          ]
        }
      ]
    },
    {
      "cell_type": "code",
      "source": [
        "def word_count(str):\n",
        "    counts = dict()\n",
        "    words = str.split()\n",
        "    for word in words:\n",
        "        if word in counts:\n",
        "            counts[word] += 1\n",
        "        else:\n",
        "            counts[word] = 1\n",
        "    return counts\n",
        "\n",
        "counter = word_count(full_text)\n",
        "print(counter)"
      ],
      "metadata": {
        "colab": {
          "base_uri": "https://localhost:8080/"
        },
        "id": "8kdghVbX_FjJ",
        "outputId": "bc7106cb-73e5-4706-b4b2-a856ccae26bf"
      },
      "execution_count": null,
      "outputs": [
        {
          "output_type": "stream",
          "name": "stdout",
          "text": [
            "{'Eden': 1, 'Would': 1, 'you': 3, 'be': 7, 'then': 3, 'You': 4, 'know': 2, 'locking': 1, 'this': 3, 'meeting': 1, 'That': 1, 'because': 1, 'once': 2, 'the': 14, 'division': 1, 'of': 6, 'What': 1, 'does': 1, 'it': 3, 'give': 1, 'people': 5, 'if': 1, 'more': 1, 'join': 1, 'in': 4, 'game': 5, 'can': 2, 'I': 1, 'think': 1, 'we': 2, 'have': 2, 'a': 5, 'party': 1, 'by': 2, \"don't\": 1, 'start': 1, 'like': 1, 'just': 1, 'Rules': 1, 'stuff': 1, 'that': 3, 'most': 2, 'would': 1, 'about': 1, 'So': 1, 'bling': 1, 'codename': 1, 'is': 3, 'fun': 1, 'board': 1, 'Just': 1, 'enjoy': 1, 'yourself': 1, 'Which': 1, 'lucky': 1, '21': 1, 'rules': 1, 'i': 1, 'am': 1, 'watching': 1, \"What's\": 1, 'song': 1, 'wanted': 1, 'lot': 1, 'to': 3, 'me': 2, 'Lips': 1, 'joining': 4, \"he's\": 1, 'one': 2, 'win': 1, 'he': 1, 'started': 1, 'Is': 3, 'going': 2, 'snow': 1, 'today': 1, 'Understand': 1, 'news': 1, 'Come': 1, 'on': 1, \"let's\": 1, 'speak': 1, 'out': 2, 'charge': 2, 'Should': 1, 'fine': 1, 'now': 1, 'A': 1, 'place': 1, 'called': 2, 'and': 3, \"you're\": 1, 'all': 3, 'gone': 1, 'Explain': 1, 'aging': 1, 'One': 2, 'set': 1, 'group': 1, 'Ruth': 1, 'b': 1, 'Direct': 1, 'sight': 1, 'Record': 1, 'explain': 1, 'for': 2, 'how': 1, 'many': 1, 'things': 2, 'Play': 1, 'dj': 1, 'Anybody': 1, 'else': 1, 'before': 1, 'Pakistani': 1, 'kashmir': 1, 'round': 1, 'Basically': 1, 'two': 1, 'different': 1, 'blue': 3, 'team': 4, 'red': 1, 'And': 3, 'will': 3, 'us': 2, 'see': 1, 'purchases': 1, 'Are': 1, '1': 1, 'mm': 1, 'among': 1, 'spy': 1, 'master': 1, 'Correct': 1, 'time': 1, 'Had': 1, 'timberland': 1, \"I'm\": 1, 'basically': 1, 'aim': 1, 'each': 1, 'figure': 1, 'right': 1, 'there': 1, 'Buy': 1, 'agents': 1, 'Example': 2, 'case': 1, 'has': 1, '9': 1, 'spice': 1, '18': 1, 'as': 1, '8': 1, 'decadent': 1, 'somebody': 1, '25': 1, 'words': 1, 'Location': 1, 'protected': 1, 'secret': 1, 'Spider-man': 1, 'No': 1, 'specific': 1, 'location': 1, \"i'll\": 1, 'make': 1, 'some': 1, 'money': 1, 'my': 1}\n"
          ]
        }
      ]
    },
    {
      "cell_type": "code",
      "source": [
        "def searchdict(dict, value):\n",
        "  for key in dict:\n",
        "    if dict[key] == value:\n",
        "      print(key,value)\n",
        "      \n",
        "searchdict(counter,1)"
      ],
      "metadata": {
        "colab": {
          "base_uri": "https://localhost:8080/"
        },
        "id": "3iOd4wIvDMUv",
        "outputId": "5abfea89-e8b0-4924-ff74-781242881619"
      },
      "execution_count": null,
      "outputs": [
        {
          "output_type": "stream",
          "name": "stdout",
          "text": [
            "Eden 1\n",
            "Would 1\n",
            "locking 1\n",
            "meeting 1\n",
            "That 1\n",
            "because 1\n",
            "division 1\n",
            "What 1\n",
            "does 1\n",
            "give 1\n",
            "if 1\n",
            "more 1\n",
            "join 1\n",
            "I 1\n",
            "think 1\n",
            "party 1\n",
            "don't 1\n",
            "start 1\n",
            "like 1\n",
            "just 1\n",
            "Rules 1\n",
            "stuff 1\n",
            "would 1\n",
            "about 1\n",
            "So 1\n",
            "bling 1\n",
            "codename 1\n",
            "fun 1\n",
            "board 1\n",
            "Just 1\n",
            "enjoy 1\n",
            "yourself 1\n",
            "Which 1\n",
            "lucky 1\n",
            "21 1\n",
            "rules 1\n",
            "i 1\n",
            "am 1\n",
            "watching 1\n",
            "What's 1\n",
            "song 1\n",
            "wanted 1\n",
            "lot 1\n",
            "Lips 1\n",
            "he's 1\n",
            "win 1\n",
            "he 1\n",
            "started 1\n",
            "snow 1\n",
            "today 1\n",
            "Understand 1\n",
            "news 1\n",
            "Come 1\n",
            "on 1\n",
            "let's 1\n",
            "speak 1\n",
            "Should 1\n",
            "fine 1\n",
            "now 1\n",
            "A 1\n",
            "place 1\n",
            "you're 1\n",
            "gone 1\n",
            "Explain 1\n",
            "aging 1\n",
            "set 1\n",
            "group 1\n",
            "Ruth 1\n",
            "b 1\n",
            "Direct 1\n",
            "sight 1\n",
            "Record 1\n",
            "explain 1\n",
            "how 1\n",
            "many 1\n",
            "Play 1\n",
            "dj 1\n",
            "Anybody 1\n",
            "else 1\n",
            "before 1\n",
            "Pakistani 1\n",
            "kashmir 1\n",
            "round 1\n",
            "Basically 1\n",
            "two 1\n",
            "different 1\n",
            "red 1\n",
            "see 1\n",
            "purchases 1\n",
            "Are 1\n",
            "1 1\n",
            "mm 1\n",
            "among 1\n",
            "spy 1\n",
            "master 1\n",
            "Correct 1\n",
            "time 1\n",
            "Had 1\n",
            "timberland 1\n",
            "I'm 1\n",
            "basically 1\n",
            "aim 1\n",
            "each 1\n",
            "figure 1\n",
            "right 1\n",
            "there 1\n",
            "Buy 1\n",
            "agents 1\n",
            "case 1\n",
            "has 1\n",
            "9 1\n",
            "spice 1\n",
            "18 1\n",
            "as 1\n",
            "8 1\n",
            "decadent 1\n",
            "somebody 1\n",
            "25 1\n",
            "words 1\n",
            "Location 1\n",
            "protected 1\n",
            "secret 1\n",
            "Spider-man 1\n",
            "No 1\n",
            "specific 1\n",
            "location 1\n",
            "i'll 1\n",
            "make 1\n",
            "some 1\n",
            "money 1\n",
            "my 1\n"
          ]
        }
      ]
    },
    {
      "cell_type": "code",
      "source": [
        "for i in range(0,len(counter)-1):\n",
        "  searchdict(counter,i+2)"
      ],
      "metadata": {
        "colab": {
          "base_uri": "https://localhost:8080/"
        },
        "id": "sRWvCluMERV3",
        "outputId": "090e41f7-107d-4c37-8fd2-e4dacfcc625e"
      },
      "execution_count": null,
      "outputs": [
        {
          "output_type": "stream",
          "name": "stdout",
          "text": [
            "know 2\n",
            "once 2\n",
            "can 2\n",
            "we 2\n",
            "have 2\n",
            "by 2\n",
            "most 2\n",
            "me 2\n",
            "one 2\n",
            "going 2\n",
            "out 2\n",
            "charge 2\n",
            "called 2\n",
            "One 2\n",
            "for 2\n",
            "things 2\n",
            "us 2\n",
            "Example 2\n",
            "you 3\n",
            "then 3\n",
            "this 3\n",
            "it 3\n",
            "that 3\n",
            "is 3\n",
            "to 3\n",
            "Is 3\n",
            "and 3\n",
            "all 3\n",
            "blue 3\n",
            "And 3\n",
            "will 3\n",
            "You 4\n",
            "in 4\n",
            "joining 4\n",
            "team 4\n",
            "people 5\n",
            "game 5\n",
            "a 5\n",
            "of 6\n",
            "be 7\n",
            "the 14\n"
          ]
        }
      ]
    }
  ]
}